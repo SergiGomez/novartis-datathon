{
 "cells": [
  {
   "cell_type": "code",
   "execution_count": 129,
   "metadata": {},
   "outputs": [],
   "source": [
    "import os\n",
    "import pandas as pd\n",
    "import numpy as np\n",
    "import datetime as dt\n",
    "import sys\n",
    "import time\n",
    "\n",
    "import preprocessing\n",
    "import models\n",
    "import prediction\n",
    "\n",
    "from sklearn.model_selection import TimeSeriesSplit"
   ]
  },
  {
   "cell_type": "code",
   "execution_count": 16,
   "metadata": {},
   "outputs": [],
   "source": [
    "path_data = '/Users/sergigomezpalleja/Downloads/'"
   ]
  },
  {
   "cell_type": "code",
   "execution_count": 39,
   "metadata": {},
   "outputs": [],
   "source": [
    "train = pd.read_csv(path_data + 'raw_data_master.csv')"
   ]
  },
  {
   "cell_type": "code",
   "execution_count": 40,
   "metadata": {},
   "outputs": [
    {
     "data": {
      "text/plain": [
       "(99456, 13)"
      ]
     },
     "execution_count": 40,
     "metadata": {},
     "output_type": "execute_result"
    }
   ],
   "source": [
    "train.shape"
   ]
  },
  {
   "cell_type": "code",
   "execution_count": 41,
   "metadata": {},
   "outputs": [
    {
     "data": {
      "text/plain": [
       "['Cluster',\n",
       " 'Brand_Group',\n",
       " 'Country',\n",
       " 'date',\n",
       " 'sales1',\n",
       " 'sales2',\n",
       " 'inv1',\n",
       " 'inv2',\n",
       " 'inv3',\n",
       " 'inv4',\n",
       " 'inv5',\n",
       " 'inv6',\n",
       " 'id']"
      ]
     },
     "execution_count": 41,
     "metadata": {},
     "output_type": "execute_result"
    }
   ],
   "source": [
    "list(train)"
   ]
  },
  {
   "cell_type": "code",
   "execution_count": 42,
   "metadata": {},
   "outputs": [
    {
     "data": {
      "text/html": [
       "<div>\n",
       "<style scoped>\n",
       "    .dataframe tbody tr th:only-of-type {\n",
       "        vertical-align: middle;\n",
       "    }\n",
       "\n",
       "    .dataframe tbody tr th {\n",
       "        vertical-align: top;\n",
       "    }\n",
       "\n",
       "    .dataframe thead th {\n",
       "        text-align: right;\n",
       "    }\n",
       "</style>\n",
       "<table border=\"1\" class=\"dataframe\">\n",
       "  <thead>\n",
       "    <tr style=\"text-align: right;\">\n",
       "      <th></th>\n",
       "      <th>Cluster</th>\n",
       "      <th>Brand_Group</th>\n",
       "      <th>Country</th>\n",
       "      <th>date</th>\n",
       "      <th>sales1</th>\n",
       "      <th>sales2</th>\n",
       "      <th>inv1</th>\n",
       "      <th>inv2</th>\n",
       "      <th>inv3</th>\n",
       "      <th>inv4</th>\n",
       "      <th>inv5</th>\n",
       "      <th>inv6</th>\n",
       "      <th>id</th>\n",
       "    </tr>\n",
       "  </thead>\n",
       "  <tbody>\n",
       "    <tr>\n",
       "      <th>0</th>\n",
       "      <td>Cluster 1</td>\n",
       "      <td>Brand Group 12</td>\n",
       "      <td>Country 10</td>\n",
       "      <td>2012-01-01</td>\n",
       "      <td>44.214973</td>\n",
       "      <td>41.311052</td>\n",
       "      <td>NaN</td>\n",
       "      <td>NaN</td>\n",
       "      <td>0.0</td>\n",
       "      <td>0.0</td>\n",
       "      <td>NaN</td>\n",
       "      <td>NaN</td>\n",
       "      <td>1</td>\n",
       "    </tr>\n",
       "  </tbody>\n",
       "</table>\n",
       "</div>"
      ],
      "text/plain": [
       "     Cluster     Brand_Group     Country        date     sales1     sales2  \\\n",
       "0  Cluster 1  Brand Group 12  Country 10  2012-01-01  44.214973  41.311052   \n",
       "\n",
       "   inv1  inv2  inv3  inv4  inv5  inv6  id  \n",
       "0   NaN   NaN   0.0   0.0   NaN   NaN   1  "
      ]
     },
     "execution_count": 42,
     "metadata": {},
     "output_type": "execute_result"
    }
   ],
   "source": [
    "train.head(n=1)"
   ]
  },
  {
   "cell_type": "code",
   "execution_count": 52,
   "metadata": {},
   "outputs": [],
   "source": [
    "df = train.copy()"
   ]
  },
  {
   "cell_type": "code",
   "execution_count": 53,
   "metadata": {},
   "outputs": [
    {
     "name": "stderr",
     "output_type": "stream",
     "text": [
      "/Users/sergigomezpalleja/anaconda3/envs/kaggle/lib/python3.6/site-packages/ipykernel/__main__.py:1: FutureWarning: currently extract(expand=None) means expand=False (return Index/Series/DataFrame) but in a future version of pandas this will be changed to expand=True (return DataFrame)\n",
      "  if __name__ == '__main__':\n",
      "/Users/sergigomezpalleja/anaconda3/envs/kaggle/lib/python3.6/site-packages/ipykernel/__main__.py:2: FutureWarning: currently extract(expand=None) means expand=False (return Index/Series/DataFrame) but in a future version of pandas this will be changed to expand=True (return DataFrame)\n",
      "  from ipykernel import kernelapp as app\n",
      "/Users/sergigomezpalleja/anaconda3/envs/kaggle/lib/python3.6/site-packages/ipykernel/__main__.py:3: FutureWarning: currently extract(expand=None) means expand=False (return Index/Series/DataFrame) but in a future version of pandas this will be changed to expand=True (return DataFrame)\n",
      "  app.launch_new_instance()\n"
     ]
    }
   ],
   "source": [
    "df['Country'] = df['Country'].str.extract('(\\d+)').astype(int)\n",
    "df['Brand_Group'] = df['Brand_Group'].str.extract('(\\d+)').astype(int)\n",
    "df['Cluster'] = df['Cluster'].str.extract('(\\d+)').astype(int)"
   ]
  },
  {
   "cell_type": "code",
   "execution_count": 54,
   "metadata": {},
   "outputs": [
    {
     "data": {
      "text/html": [
       "<div>\n",
       "<style scoped>\n",
       "    .dataframe tbody tr th:only-of-type {\n",
       "        vertical-align: middle;\n",
       "    }\n",
       "\n",
       "    .dataframe tbody tr th {\n",
       "        vertical-align: top;\n",
       "    }\n",
       "\n",
       "    .dataframe thead th {\n",
       "        text-align: right;\n",
       "    }\n",
       "</style>\n",
       "<table border=\"1\" class=\"dataframe\">\n",
       "  <thead>\n",
       "    <tr style=\"text-align: right;\">\n",
       "      <th></th>\n",
       "      <th>Cluster</th>\n",
       "      <th>Brand_Group</th>\n",
       "      <th>Country</th>\n",
       "      <th>date</th>\n",
       "      <th>sales1</th>\n",
       "      <th>sales2</th>\n",
       "      <th>inv1</th>\n",
       "      <th>inv2</th>\n",
       "      <th>inv3</th>\n",
       "      <th>inv4</th>\n",
       "      <th>inv5</th>\n",
       "      <th>inv6</th>\n",
       "      <th>id</th>\n",
       "    </tr>\n",
       "  </thead>\n",
       "  <tbody>\n",
       "    <tr>\n",
       "      <th>0</th>\n",
       "      <td>1</td>\n",
       "      <td>12</td>\n",
       "      <td>10</td>\n",
       "      <td>2012-01-01</td>\n",
       "      <td>44.214973</td>\n",
       "      <td>41.311052</td>\n",
       "      <td>NaN</td>\n",
       "      <td>NaN</td>\n",
       "      <td>0.000000</td>\n",
       "      <td>0.000000</td>\n",
       "      <td>NaN</td>\n",
       "      <td>NaN</td>\n",
       "      <td>1</td>\n",
       "    </tr>\n",
       "    <tr>\n",
       "      <th>1</th>\n",
       "      <td>1</td>\n",
       "      <td>12</td>\n",
       "      <td>10</td>\n",
       "      <td>2012-02-01</td>\n",
       "      <td>104.918692</td>\n",
       "      <td>95.697737</td>\n",
       "      <td>NaN</td>\n",
       "      <td>NaN</td>\n",
       "      <td>-3.441472</td>\n",
       "      <td>0.000000</td>\n",
       "      <td>NaN</td>\n",
       "      <td>NaN</td>\n",
       "      <td>2</td>\n",
       "    </tr>\n",
       "    <tr>\n",
       "      <th>2</th>\n",
       "      <td>1</td>\n",
       "      <td>12</td>\n",
       "      <td>10</td>\n",
       "      <td>2012-03-01</td>\n",
       "      <td>25.813126</td>\n",
       "      <td>21.010914</td>\n",
       "      <td>NaN</td>\n",
       "      <td>NaN</td>\n",
       "      <td>0.000000</td>\n",
       "      <td>0.000000</td>\n",
       "      <td>NaN</td>\n",
       "      <td>NaN</td>\n",
       "      <td>3</td>\n",
       "    </tr>\n",
       "    <tr>\n",
       "      <th>3</th>\n",
       "      <td>1</td>\n",
       "      <td>12</td>\n",
       "      <td>10</td>\n",
       "      <td>2012-04-01</td>\n",
       "      <td>21.735670</td>\n",
       "      <td>19.227058</td>\n",
       "      <td>NaN</td>\n",
       "      <td>NaN</td>\n",
       "      <td>0.000000</td>\n",
       "      <td>0.000000</td>\n",
       "      <td>NaN</td>\n",
       "      <td>NaN</td>\n",
       "      <td>4</td>\n",
       "    </tr>\n",
       "    <tr>\n",
       "      <th>4</th>\n",
       "      <td>1</td>\n",
       "      <td>12</td>\n",
       "      <td>10</td>\n",
       "      <td>2012-05-01</td>\n",
       "      <td>17.258679</td>\n",
       "      <td>15.390803</td>\n",
       "      <td>NaN</td>\n",
       "      <td>NaN</td>\n",
       "      <td>0.000000</td>\n",
       "      <td>-0.010893</td>\n",
       "      <td>NaN</td>\n",
       "      <td>NaN</td>\n",
       "      <td>5</td>\n",
       "    </tr>\n",
       "  </tbody>\n",
       "</table>\n",
       "</div>"
      ],
      "text/plain": [
       "   Cluster  Brand_Group  Country        date      sales1     sales2  inv1  \\\n",
       "0        1           12       10  2012-01-01   44.214973  41.311052   NaN   \n",
       "1        1           12       10  2012-02-01  104.918692  95.697737   NaN   \n",
       "2        1           12       10  2012-03-01   25.813126  21.010914   NaN   \n",
       "3        1           12       10  2012-04-01   21.735670  19.227058   NaN   \n",
       "4        1           12       10  2012-05-01   17.258679  15.390803   NaN   \n",
       "\n",
       "   inv2      inv3      inv4  inv5  inv6  id  \n",
       "0   NaN  0.000000  0.000000   NaN   NaN   1  \n",
       "1   NaN -3.441472  0.000000   NaN   NaN   2  \n",
       "2   NaN  0.000000  0.000000   NaN   NaN   3  \n",
       "3   NaN  0.000000  0.000000   NaN   NaN   4  \n",
       "4   NaN  0.000000 -0.010893   NaN   NaN   5  "
      ]
     },
     "execution_count": 54,
     "metadata": {},
     "output_type": "execute_result"
    }
   ],
   "source": [
    "df.head()"
   ]
  },
  {
   "cell_type": "code",
   "execution_count": 55,
   "metadata": {},
   "outputs": [
    {
     "name": "stdout",
     "output_type": "stream",
     "text": [
      "<class 'pandas.core.frame.DataFrame'>\n",
      "RangeIndex: 99456 entries, 0 to 99455\n",
      "Data columns (total 13 columns):\n",
      "Cluster        99456 non-null int64\n",
      "Brand_Group    99456 non-null int64\n",
      "Country        99456 non-null int64\n",
      "date           99456 non-null object\n",
      "sales1         74520 non-null float64\n",
      "sales2         77688 non-null float64\n",
      "inv1           40236 non-null float64\n",
      "inv2           40488 non-null float64\n",
      "inv3           13440 non-null float64\n",
      "inv4           50148 non-null float64\n",
      "inv5           420 non-null float64\n",
      "inv6           32844 non-null float64\n",
      "id             99456 non-null int64\n",
      "dtypes: float64(8), int64(4), object(1)\n",
      "memory usage: 9.9+ MB\n"
     ]
    }
   ],
   "source": [
    "df.info()"
   ]
  },
  {
   "cell_type": "code",
   "execution_count": 113,
   "metadata": {},
   "outputs": [],
   "source": [
    "train = pd.read_csv(path_data + 'train_preprocessed_sergi_1.csv')"
   ]
  },
  {
   "cell_type": "code",
   "execution_count": 114,
   "metadata": {},
   "outputs": [],
   "source": [
    "df = train.copy()"
   ]
  },
  {
   "cell_type": "code",
   "execution_count": 115,
   "metadata": {},
   "outputs": [],
   "source": [
    "df['date'] = df['date'].astype('datetime64[ns]')"
   ]
  },
  {
   "cell_type": "code",
   "execution_count": 116,
   "metadata": {},
   "outputs": [
    {
     "name": "stdout",
     "output_type": "stream",
     "text": [
      "<class 'pandas.core.frame.DataFrame'>\n",
      "RangeIndex: 99456 entries, 0 to 99455\n",
      "Data columns (total 13 columns):\n",
      "Cluster        99456 non-null int64\n",
      "Brand_Group    99456 non-null int64\n",
      "Country        99456 non-null int64\n",
      "date           99456 non-null datetime64[ns]\n",
      "sales1         74520 non-null float64\n",
      "sales2         77688 non-null float64\n",
      "inv1           40236 non-null float64\n",
      "inv2           40488 non-null float64\n",
      "inv3           13440 non-null float64\n",
      "inv4           50148 non-null float64\n",
      "inv5           420 non-null float64\n",
      "inv6           32844 non-null float64\n",
      "id             99456 non-null int64\n",
      "dtypes: datetime64[ns](1), float64(8), int64(4)\n",
      "memory usage: 9.9 MB\n"
     ]
    }
   ],
   "source": [
    "df.info()"
   ]
  },
  {
   "cell_type": "code",
   "execution_count": 109,
   "metadata": {},
   "outputs": [
    {
     "name": "stdout",
     "output_type": "stream",
     "text": [
      "Percentage Missings Inv 1  0.5954391891891891\n",
      "Percentage Missings Inv 2  0.5929054054054054\n",
      "Percentage Missings Inv 3  0.8648648648648649\n",
      "Percentage Missings Inv 4  0.49577702702702703\n",
      "Percentage Missings Inv 5  0.995777027027027\n",
      "Percentage Missings Inv 6  0.6697635135135135\n"
     ]
    }
   ],
   "source": [
    "print(\"Percentage Missings Inv 1 \", df.loc[df.inv1.isnull()].shape[0]/df.shape[0])\n",
    "print(\"Percentage Missings Inv 2 \", df.loc[df.inv2.isnull()].shape[0]/df.shape[0])\n",
    "print(\"Percentage Missings Inv 3 \", df.loc[df.inv3.isnull()].shape[0]/df.shape[0])\n",
    "print(\"Percentage Missings Inv 4 \", df.loc[df.inv4.isnull()].shape[0]/df.shape[0])\n",
    "print(\"Percentage Missings Inv 5 \", df.loc[df.inv5.isnull()].shape[0]/df.shape[0])\n",
    "print(\"Percentage Missings Inv 6 \", df.loc[df.inv6.isnull()].shape[0]/df.shape[0])"
   ]
  },
  {
   "cell_type": "code",
   "execution_count": 119,
   "metadata": {},
   "outputs": [
    {
     "data": {
      "text/html": [
       "<div>\n",
       "<style scoped>\n",
       "    .dataframe tbody tr th:only-of-type {\n",
       "        vertical-align: middle;\n",
       "    }\n",
       "\n",
       "    .dataframe tbody tr th {\n",
       "        vertical-align: top;\n",
       "    }\n",
       "\n",
       "    .dataframe thead th {\n",
       "        text-align: right;\n",
       "    }\n",
       "</style>\n",
       "<table border=\"1\" class=\"dataframe\">\n",
       "  <thead>\n",
       "    <tr style=\"text-align: right;\">\n",
       "      <th></th>\n",
       "      <th>Cluster</th>\n",
       "      <th>Brand_Group</th>\n",
       "      <th>Country</th>\n",
       "      <th>date</th>\n",
       "      <th>sales1</th>\n",
       "      <th>sales2</th>\n",
       "      <th>inv1</th>\n",
       "      <th>inv2</th>\n",
       "      <th>inv3</th>\n",
       "      <th>inv4</th>\n",
       "      <th>inv5</th>\n",
       "      <th>inv6</th>\n",
       "      <th>id</th>\n",
       "    </tr>\n",
       "  </thead>\n",
       "  <tbody>\n",
       "  </tbody>\n",
       "</table>\n",
       "</div>"
      ],
      "text/plain": [
       "Empty DataFrame\n",
       "Columns: [Cluster, Brand_Group, Country, date, sales1, sales2, inv1, inv2, inv3, inv4, inv5, inv6, id]\n",
       "Index: []"
      ]
     },
     "execution_count": 119,
     "metadata": {},
     "output_type": "execute_result"
    }
   ],
   "source": [
    "df.loc[(df.inv5.isnull()) & (df.inv5 != 0)]"
   ]
  },
  {
   "cell_type": "code",
   "execution_count": 117,
   "metadata": {},
   "outputs": [],
   "source": [
    "df['inv5'].fillna(value = 0.0, inplace = True)"
   ]
  },
  {
   "cell_type": "code",
   "execution_count": 126,
   "metadata": {},
   "outputs": [],
   "source": [
    "df = pd.read_csv(path_data + 'train_preprocessed_sergi_1.csv')"
   ]
  },
  {
   "cell_type": "code",
   "execution_count": 138,
   "metadata": {},
   "outputs": [],
   "source": [
    "train_X = df.loc[df.date < '2018-01-01']"
   ]
  },
  {
   "cell_type": "code",
   "execution_count": 139,
   "metadata": {},
   "outputs": [],
   "source": [
    "values = train_X.date.unique()"
   ]
  },
  {
   "cell_type": "code",
   "execution_count": 145,
   "metadata": {},
   "outputs": [
    {
     "data": {
      "text/plain": [
       "72"
      ]
     },
     "execution_count": 145,
     "metadata": {},
     "output_type": "execute_result"
    }
   ],
   "source": [
    "len(values)"
   ]
  },
  {
   "cell_type": "code",
   "execution_count": 153,
   "metadata": {},
   "outputs": [],
   "source": [
    "tscv = TimeSeriesSplit(n_splits = 5)"
   ]
  },
  {
   "cell_type": "code",
   "execution_count": 157,
   "metadata": {},
   "outputs": [
    {
     "name": "stdout",
     "output_type": "stream",
     "text": [
      "Train: 12, Validation: 12\n",
      "Train: ['2012-01-01' '2012-02-01' '2012-03-01' '2012-04-01' '2012-05-01'\n",
      " '2012-06-01' '2012-07-01' '2012-08-01' '2012-09-01' '2012-10-01'\n",
      " '2012-11-01' '2012-12-01'], Validation: ['2013-01-01' '2013-02-01' '2013-03-01' '2013-04-01' '2013-05-01'\n",
      " '2013-06-01' '2013-07-01' '2013-08-01' '2013-09-01' '2013-10-01'\n",
      " '2013-11-01' '2013-12-01']\n",
      "Train: 24, Validation: 12\n",
      "Train: ['2012-01-01' '2012-02-01' '2012-03-01' '2012-04-01' '2012-05-01'\n",
      " '2012-06-01' '2012-07-01' '2012-08-01' '2012-09-01' '2012-10-01'\n",
      " '2012-11-01' '2012-12-01' '2013-01-01' '2013-02-01' '2013-03-01'\n",
      " '2013-04-01' '2013-05-01' '2013-06-01' '2013-07-01' '2013-08-01'\n",
      " '2013-09-01' '2013-10-01' '2013-11-01' '2013-12-01'], Validation: ['2014-01-01' '2014-02-01' '2014-03-01' '2014-04-01' '2014-05-01'\n",
      " '2014-06-01' '2014-07-01' '2014-08-01' '2014-09-01' '2014-10-01'\n",
      " '2014-11-01' '2014-12-01']\n",
      "Train: 36, Validation: 12\n",
      "Train: ['2012-01-01' '2012-02-01' '2012-03-01' '2012-04-01' '2012-05-01'\n",
      " '2012-06-01' '2012-07-01' '2012-08-01' '2012-09-01' '2012-10-01'\n",
      " '2012-11-01' '2012-12-01' '2013-01-01' '2013-02-01' '2013-03-01'\n",
      " '2013-04-01' '2013-05-01' '2013-06-01' '2013-07-01' '2013-08-01'\n",
      " '2013-09-01' '2013-10-01' '2013-11-01' '2013-12-01' '2014-01-01'\n",
      " '2014-02-01' '2014-03-01' '2014-04-01' '2014-05-01' '2014-06-01'\n",
      " '2014-07-01' '2014-08-01' '2014-09-01' '2014-10-01' '2014-11-01'\n",
      " '2014-12-01'], Validation: ['2015-01-01' '2015-02-01' '2015-03-01' '2015-04-01' '2015-05-01'\n",
      " '2015-06-01' '2015-07-01' '2015-08-01' '2015-09-01' '2015-10-01'\n",
      " '2015-11-01' '2015-12-01']\n",
      "Train: 48, Validation: 12\n",
      "Train: ['2012-01-01' '2012-02-01' '2012-03-01' '2012-04-01' '2012-05-01'\n",
      " '2012-06-01' '2012-07-01' '2012-08-01' '2012-09-01' '2012-10-01'\n",
      " '2012-11-01' '2012-12-01' '2013-01-01' '2013-02-01' '2013-03-01'\n",
      " '2013-04-01' '2013-05-01' '2013-06-01' '2013-07-01' '2013-08-01'\n",
      " '2013-09-01' '2013-10-01' '2013-11-01' '2013-12-01' '2014-01-01'\n",
      " '2014-02-01' '2014-03-01' '2014-04-01' '2014-05-01' '2014-06-01'\n",
      " '2014-07-01' '2014-08-01' '2014-09-01' '2014-10-01' '2014-11-01'\n",
      " '2014-12-01' '2015-01-01' '2015-02-01' '2015-03-01' '2015-04-01'\n",
      " '2015-05-01' '2015-06-01' '2015-07-01' '2015-08-01' '2015-09-01'\n",
      " '2015-10-01' '2015-11-01' '2015-12-01'], Validation: ['2016-01-01' '2016-02-01' '2016-03-01' '2016-04-01' '2016-05-01'\n",
      " '2016-06-01' '2016-07-01' '2016-08-01' '2016-09-01' '2016-10-01'\n",
      " '2016-11-01' '2016-12-01']\n",
      "Train: 60, Validation: 12\n",
      "Train: ['2012-01-01' '2012-02-01' '2012-03-01' '2012-04-01' '2012-05-01'\n",
      " '2012-06-01' '2012-07-01' '2012-08-01' '2012-09-01' '2012-10-01'\n",
      " '2012-11-01' '2012-12-01' '2013-01-01' '2013-02-01' '2013-03-01'\n",
      " '2013-04-01' '2013-05-01' '2013-06-01' '2013-07-01' '2013-08-01'\n",
      " '2013-09-01' '2013-10-01' '2013-11-01' '2013-12-01' '2014-01-01'\n",
      " '2014-02-01' '2014-03-01' '2014-04-01' '2014-05-01' '2014-06-01'\n",
      " '2014-07-01' '2014-08-01' '2014-09-01' '2014-10-01' '2014-11-01'\n",
      " '2014-12-01' '2015-01-01' '2015-02-01' '2015-03-01' '2015-04-01'\n",
      " '2015-05-01' '2015-06-01' '2015-07-01' '2015-08-01' '2015-09-01'\n",
      " '2015-10-01' '2015-11-01' '2015-12-01' '2016-01-01' '2016-02-01'\n",
      " '2016-03-01' '2016-04-01' '2016-05-01' '2016-06-01' '2016-07-01'\n",
      " '2016-08-01' '2016-09-01' '2016-10-01' '2016-11-01' '2016-12-01'], Validation: ['2017-01-01' '2017-02-01' '2017-03-01' '2017-04-01' '2017-05-01'\n",
      " '2017-06-01' '2017-07-01' '2017-08-01' '2017-09-01' '2017-10-01'\n",
      " '2017-11-01' '2017-12-01']\n"
     ]
    }
   ],
   "source": [
    "# iterating over folds, train model on each, forecast and calculate error\n",
    "for train, val in tscv.split(values):\n",
    "    print('Train: %s, Validation: %s' % (len(train), len(val)))\n",
    "    dates_train = values[train]\n",
    "    dates_val = values[val]\n",
    "    print('Train: %s, Validation: %s' % (dates_train, dates_val))"
   ]
  }
 ],
 "metadata": {
  "kernelspec": {
   "display_name": "Python [conda env:kaggle]",
   "language": "python",
   "name": "conda-env-kaggle-py"
  },
  "language_info": {
   "codemirror_mode": {
    "name": "ipython",
    "version": 3
   },
   "file_extension": ".py",
   "mimetype": "text/x-python",
   "name": "python",
   "nbconvert_exporter": "python",
   "pygments_lexer": "ipython3",
   "version": "3.6.3"
  }
 },
 "nbformat": 4,
 "nbformat_minor": 2
}
