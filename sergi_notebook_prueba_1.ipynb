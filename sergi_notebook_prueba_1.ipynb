{
 "cells": [
  {
   "cell_type": "code",
   "execution_count": 15,
   "metadata": {},
   "outputs": [],
   "source": [
    "import os\n",
    "import pandas as pd\n",
    "import numpy as np\n",
    "import datetime as dt\n",
    "import sys\n",
    "import time\n",
    "\n",
    "import preprocessing\n",
    "import models\n",
    "import prediction"
   ]
  },
  {
   "cell_type": "code",
   "execution_count": 16,
   "metadata": {},
   "outputs": [],
   "source": [
    "path_data = '/Users/sergigomezpalleja/Downloads/'"
   ]
  },
  {
   "cell_type": "code",
   "execution_count": 22,
   "metadata": {},
   "outputs": [],
   "source": [
    "train = pd.read_csv(path_data + 'raw_data.csv')"
   ]
  },
  {
   "cell_type": "code",
   "execution_count": 24,
   "metadata": {},
   "outputs": [
    {
     "data": {
      "text/plain": [
       "(4228, 123)"
      ]
     },
     "execution_count": 24,
     "metadata": {},
     "output_type": "execute_result"
    }
   ],
   "source": [
    "train.shape"
   ]
  },
  {
   "cell_type": "code",
   "execution_count": 27,
   "metadata": {},
   "outputs": [
    {
     "data": {
      "text/plain": [
       "['Cluster',\n",
       " 'Brand Group',\n",
       " 'Country',\n",
       " 'Function',\n",
       " 'Jan 2012',\n",
       " 'Feb 2012',\n",
       " 'Mar 2012',\n",
       " 'X__1',\n",
       " 'Apr 2012',\n",
       " 'May 2012',\n",
       " 'Jun 2012',\n",
       " 'X__2',\n",
       " 'Jul 2012',\n",
       " 'Aug 2012',\n",
       " 'Sep 2012',\n",
       " 'X__3',\n",
       " 'Oct 2012',\n",
       " 'Nov 2012',\n",
       " 'Dec 2012',\n",
       " 'X__4',\n",
       " 'X__5',\n",
       " 'Jan 2013',\n",
       " 'Feb 2013',\n",
       " 'Mar 2013',\n",
       " 'X__6',\n",
       " 'Apr 2013',\n",
       " 'May 2013',\n",
       " 'Jun 2013',\n",
       " 'X__7',\n",
       " 'Jul 2013',\n",
       " 'Aug 2013',\n",
       " 'Sep 2013',\n",
       " 'X__8',\n",
       " 'Oct 2013',\n",
       " 'Nov 2013',\n",
       " 'Dec 2013',\n",
       " 'X__9',\n",
       " 'X__10',\n",
       " 'Jan 2014',\n",
       " 'Feb 2014',\n",
       " 'Mar 2014',\n",
       " 'X__11',\n",
       " 'Apr 2014',\n",
       " 'May 2014',\n",
       " 'Jun 2014',\n",
       " 'X__12',\n",
       " 'Jul 2014',\n",
       " 'Aug 2014',\n",
       " 'Sep 2014',\n",
       " 'X__13',\n",
       " 'Oct 2014',\n",
       " 'Nov 2014',\n",
       " 'Dec 2014',\n",
       " 'X__14',\n",
       " 'X__15',\n",
       " 'Jan 2015',\n",
       " 'Feb 2015',\n",
       " 'Mar 2015',\n",
       " 'X__16',\n",
       " 'Apr 2015',\n",
       " 'May 2015',\n",
       " 'Jun 2015',\n",
       " 'X__17',\n",
       " 'Jul 2015',\n",
       " 'Aug 2015',\n",
       " 'Sep 2015',\n",
       " 'X__18',\n",
       " 'Oct 2015',\n",
       " 'Nov 2015',\n",
       " 'Dec 2015',\n",
       " 'X__19',\n",
       " 'X__20',\n",
       " 'Jan 2016',\n",
       " 'Feb 2016',\n",
       " 'Mar 2016',\n",
       " 'X__21',\n",
       " 'Apr 2016',\n",
       " 'May 2016',\n",
       " 'Jun 2016',\n",
       " 'X__22',\n",
       " 'Jul 2016',\n",
       " 'Aug 2016',\n",
       " 'Sep 2016',\n",
       " 'X__23',\n",
       " 'Oct 2016',\n",
       " 'Nov 2016',\n",
       " 'Dec 2016',\n",
       " 'X__24',\n",
       " 'X__25',\n",
       " 'Jan 2017',\n",
       " 'Feb 2017',\n",
       " 'Mar 2017',\n",
       " 'X__26',\n",
       " 'Apr 2017',\n",
       " 'May 2017',\n",
       " 'Jun 2017',\n",
       " 'X__27',\n",
       " 'Jul 2017',\n",
       " 'Aug 2017',\n",
       " 'Sep 2017',\n",
       " 'X__28',\n",
       " 'Oct 2017',\n",
       " 'Nov 2017',\n",
       " 'Dec 2017',\n",
       " 'X__29',\n",
       " 'X__30',\n",
       " 'Jan 2018',\n",
       " 'Feb 2018',\n",
       " 'Mar 2018',\n",
       " 'X__31',\n",
       " 'Apr 2018',\n",
       " 'May 2018',\n",
       " 'Jun 2018',\n",
       " 'X__32',\n",
       " 'Jul 2018',\n",
       " 'Aug 2018',\n",
       " 'Sep 2018',\n",
       " 'X__33',\n",
       " 'Oct 2018',\n",
       " 'Nov 2018',\n",
       " 'Dec 2018',\n",
       " 'X__34',\n",
       " 'X__35']"
      ]
     },
     "execution_count": 27,
     "metadata": {},
     "output_type": "execute_result"
    }
   ],
   "source": [
    "list(train)"
   ]
  },
  {
   "cell_type": "code",
   "execution_count": 26,
   "metadata": {},
   "outputs": [
    {
     "data": {
      "text/html": [
       "<div>\n",
       "<style scoped>\n",
       "    .dataframe tbody tr th:only-of-type {\n",
       "        vertical-align: middle;\n",
       "    }\n",
       "\n",
       "    .dataframe tbody tr th {\n",
       "        vertical-align: top;\n",
       "    }\n",
       "\n",
       "    .dataframe thead th {\n",
       "        text-align: right;\n",
       "    }\n",
       "</style>\n",
       "<table border=\"1\" class=\"dataframe\">\n",
       "  <thead>\n",
       "    <tr style=\"text-align: right;\">\n",
       "      <th></th>\n",
       "      <th>Cluster</th>\n",
       "      <th>Brand Group</th>\n",
       "      <th>Country</th>\n",
       "      <th>Function</th>\n",
       "      <th>Jan 2012</th>\n",
       "      <th>Feb 2012</th>\n",
       "      <th>Mar 2012</th>\n",
       "      <th>X__1</th>\n",
       "      <th>Apr 2012</th>\n",
       "      <th>May 2012</th>\n",
       "      <th>...</th>\n",
       "      <th>X__32</th>\n",
       "      <th>Jul 2018</th>\n",
       "      <th>Aug 2018</th>\n",
       "      <th>Sep 2018</th>\n",
       "      <th>X__33</th>\n",
       "      <th>Oct 2018</th>\n",
       "      <th>Nov 2018</th>\n",
       "      <th>Dec 2018</th>\n",
       "      <th>X__34</th>\n",
       "      <th>X__35</th>\n",
       "    </tr>\n",
       "  </thead>\n",
       "  <tbody>\n",
       "    <tr>\n",
       "      <th>0</th>\n",
       "      <td>Cluster 3</td>\n",
       "      <td>Brand Group 12</td>\n",
       "      <td>Country 19</td>\n",
       "      <td>Sales 1</td>\n",
       "      <td>1861.328751</td>\n",
       "      <td>1995.945017</td>\n",
       "      <td>1998.533792</td>\n",
       "      <td>5855.80756</td>\n",
       "      <td>2019.243986</td>\n",
       "      <td>2425.681558</td>\n",
       "      <td>...</td>\n",
       "      <td>NaN</td>\n",
       "      <td>NaN</td>\n",
       "      <td>NaN</td>\n",
       "      <td>NaN</td>\n",
       "      <td>NaN</td>\n",
       "      <td>NaN</td>\n",
       "      <td>NaN</td>\n",
       "      <td>NaN</td>\n",
       "      <td>NaN</td>\n",
       "      <td>NaN</td>\n",
       "    </tr>\n",
       "  </tbody>\n",
       "</table>\n",
       "<p>1 rows × 123 columns</p>\n",
       "</div>"
      ],
      "text/plain": [
       "     Cluster     Brand Group     Country Function     Jan 2012     Feb 2012  \\\n",
       "0  Cluster 3  Brand Group 12  Country 19  Sales 1  1861.328751  1995.945017   \n",
       "\n",
       "      Mar 2012        X__1     Apr 2012     May 2012  ...    X__32  Jul 2018  \\\n",
       "0  1998.533792  5855.80756  2019.243986  2425.681558  ...      NaN       NaN   \n",
       "\n",
       "   Aug 2018  Sep 2018  X__33  Oct 2018  Nov 2018  Dec 2018  X__34  X__35  \n",
       "0       NaN       NaN    NaN       NaN       NaN       NaN    NaN    NaN  \n",
       "\n",
       "[1 rows x 123 columns]"
      ]
     },
     "execution_count": 26,
     "metadata": {},
     "output_type": "execute_result"
    }
   ],
   "source": [
    "train.head(n=1)"
   ]
  },
  {
   "cell_type": "code",
   "execution_count": 25,
   "metadata": {},
   "outputs": [],
   "source": [
    "df = train.copy()"
   ]
  },
  {
   "cell_type": "code",
   "execution_count": 28,
   "metadata": {},
   "outputs": [],
   "source": [
    "key_vars= ['Cluster',\n",
    " 'Brand Group',\n",
    " 'Country',\n",
    " 'Function',]"
   ]
  },
  {
   "cell_type": "code",
   "execution_count": 30,
   "metadata": {},
   "outputs": [
    {
     "data": {
      "text/plain": [
       "['Feb 2016',\n",
       " 'Mar 2016',\n",
       " 'X__21',\n",
       " 'Apr 2016',\n",
       " 'May 2016',\n",
       " 'Jun 2016',\n",
       " 'X__22',\n",
       " 'Jul 2016',\n",
       " 'Aug 2016',\n",
       " 'Sep 2016',\n",
       " 'X__23',\n",
       " 'Oct 2016',\n",
       " 'Nov 2016',\n",
       " 'Dec 2016',\n",
       " 'X__24',\n",
       " 'X__25',\n",
       " 'Jan 2017',\n",
       " 'Feb 2017',\n",
       " 'Mar 2017',\n",
       " 'X__26',\n",
       " 'Apr 2017',\n",
       " 'May 2017',\n",
       " 'Jun 2017',\n",
       " 'X__27',\n",
       " 'Jul 2017',\n",
       " 'Aug 2017',\n",
       " 'Sep 2017',\n",
       " 'X__28',\n",
       " 'Oct 2017',\n",
       " 'Nov 2017',\n",
       " 'Dec 2017',\n",
       " 'X__29',\n",
       " 'X__30',\n",
       " 'Jan 2018',\n",
       " 'Feb 2018',\n",
       " 'Mar 2018',\n",
       " 'X__31',\n",
       " 'Apr 2018',\n",
       " 'May 2018',\n",
       " 'Jun 2018',\n",
       " 'X__32',\n",
       " 'Jul 2018',\n",
       " 'Aug 2018',\n",
       " 'Sep 2018',\n",
       " 'X__33',\n",
       " 'Oct 2018',\n",
       " 'Nov 2018',\n",
       " 'Dec 2018',\n",
       " 'X__34',\n",
       " 'X__35']"
      ]
     },
     "execution_count": 30,
     "metadata": {},
     "output_type": "execute_result"
    }
   ],
   "source": [
    "list(df.columns[-50:])"
   ]
  },
  {
   "cell_type": "code",
   "execution_count": 31,
   "metadata": {},
   "outputs": [],
   "source": [
    "df = pd.melt(df[list(df.columns[-50:])+ key_vars],\n",
    "                        id_vars= key_vars, var_name='date', value_name='sales')"
   ]
  },
  {
   "cell_type": "code",
   "execution_count": 35,
   "metadata": {},
   "outputs": [
    {
     "name": "stdout",
     "output_type": "stream",
     "text": [
      "<class 'pandas.core.frame.DataFrame'>\n",
      "RangeIndex: 211400 entries, 0 to 211399\n",
      "Data columns (total 6 columns):\n",
      "Cluster        211400 non-null object\n",
      "Brand Group    211400 non-null object\n",
      "Country        211400 non-null object\n",
      "Function       211400 non-null object\n",
      "date           211400 non-null object\n",
      "sales          175462 non-null float64\n",
      "dtypes: float64(1), object(5)\n",
      "memory usage: 9.7+ MB\n"
     ]
    }
   ],
   "source": [
    "df.info()"
   ]
  },
  {
   "cell_type": "code",
   "execution_count": 38,
   "metadata": {},
   "outputs": [
    {
     "data": {
      "text/plain": [
       "211400"
      ]
     },
     "execution_count": 38,
     "metadata": {},
     "output_type": "execute_result"
    }
   ],
   "source": []
  }
 ],
 "metadata": {
  "kernelspec": {
   "display_name": "Python [conda env:kaggle]",
   "language": "python",
   "name": "conda-env-kaggle-py"
  },
  "language_info": {
   "codemirror_mode": {
    "name": "ipython",
    "version": 3
   },
   "file_extension": ".py",
   "mimetype": "text/x-python",
   "name": "python",
   "nbconvert_exporter": "python",
   "pygments_lexer": "ipython3",
   "version": "3.6.3"
  }
 },
 "nbformat": 4,
 "nbformat_minor": 2
}
