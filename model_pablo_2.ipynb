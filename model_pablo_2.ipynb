{
 "cells": [
  {
   "cell_type": "code",
   "execution_count": null,
   "metadata": {},
   "outputs": [],
   "source": [
    "!pip install xlrd"
   ]
  },
  {
   "cell_type": "code",
   "execution_count": null,
   "metadata": {},
   "outputs": [],
   "source": [
    "import os\n",
    "from google.colab import drive\n",
    "\n",
    "drive.mount('/gdrive', force_remount=True)\n",
    "root_dir = '/gdrive/My Drive/tests/dexma/'"
   ]
  },
  {
   "cell_type": "code",
   "execution_count": 3,
   "metadata": {},
   "outputs": [],
   "source": [
    "# Muting python warnings\n",
    "import warnings\n",
    "warnings.filterwarnings('ignore')\n",
    "\n",
    "# Numpy for array manipulation\n",
    "import numpy as np\n",
    "\n",
    "# Pandas for working with dataframes and series\n",
    "import pandas as pd\n",
    "\n",
    "# Sklearn packages for metrics, data transformation, feature selection and forecast models\n",
    "from sklearn.metrics import r2_score\n",
    "from sklearn.preprocessing import LabelEncoder, StandardScaler\n",
    "from sklearn.feature_selection import RFECV\n",
    "from sklearn.model_selection import TimeSeriesSplit\n",
    "from sklearn.linear_model import LinearRegression, LassoCV"
   ]
  },
  {
   "cell_type": "markdown",
   "metadata": {},
   "source": [
    "From here it's possible to create new features calculated only on train set data"
   ]
  },
  {
   "cell_type": "code",
   "execution_count": 67,
   "metadata": {},
   "outputs": [],
   "source": [
    "def prediction_absolute_prop_error(y, y_pred):\n",
    "    return np.mean(np.abs((y - y_pred) / y))"
   ]
  },
  {
   "cell_type": "code",
   "execution_count": 107,
   "metadata": {},
   "outputs": [],
   "source": [
    "train = pd.read_csv('train_X.csv')\n",
    "val = pd.read_csv('val_X.csv')"
   ]
  },
  {
   "cell_type": "code",
   "execution_count": 108,
   "metadata": {},
   "outputs": [
    {
     "data": {
      "text/html": [
       "<div>\n",
       "<style scoped>\n",
       "    .dataframe tbody tr th:only-of-type {\n",
       "        vertical-align: middle;\n",
       "    }\n",
       "\n",
       "    .dataframe tbody tr th {\n",
       "        vertical-align: top;\n",
       "    }\n",
       "\n",
       "    .dataframe thead th {\n",
       "        text-align: right;\n",
       "    }\n",
       "</style>\n",
       "<table border=\"1\" class=\"dataframe\">\n",
       "  <thead>\n",
       "    <tr style=\"text-align: right;\">\n",
       "      <th></th>\n",
       "      <th>Unnamed: 0</th>\n",
       "      <th>Cluster</th>\n",
       "      <th>Brand_Group</th>\n",
       "      <th>Country</th>\n",
       "      <th>date</th>\n",
       "      <th>sales1</th>\n",
       "      <th>sales2</th>\n",
       "      <th>inv1</th>\n",
       "      <th>inv2</th>\n",
       "      <th>inv3</th>\n",
       "      <th>inv4</th>\n",
       "      <th>inv5</th>\n",
       "      <th>inv6</th>\n",
       "      <th>id</th>\n",
       "      <th>year</th>\n",
       "      <th>month</th>\n",
       "    </tr>\n",
       "  </thead>\n",
       "  <tbody>\n",
       "    <tr>\n",
       "      <th>0</th>\n",
       "      <td>60</td>\n",
       "      <td>1</td>\n",
       "      <td>12</td>\n",
       "      <td>10</td>\n",
       "      <td>2017-01-01</td>\n",
       "      <td>12.712153</td>\n",
       "      <td>11.105362</td>\n",
       "      <td>0.0</td>\n",
       "      <td>0.0</td>\n",
       "      <td>0.0</td>\n",
       "      <td>0.001951</td>\n",
       "      <td>0.0</td>\n",
       "      <td>0.0</td>\n",
       "      <td>61</td>\n",
       "      <td>2017</td>\n",
       "      <td>1</td>\n",
       "    </tr>\n",
       "    <tr>\n",
       "      <th>1</th>\n",
       "      <td>61</td>\n",
       "      <td>1</td>\n",
       "      <td>12</td>\n",
       "      <td>10</td>\n",
       "      <td>2017-02-01</td>\n",
       "      <td>13.395923</td>\n",
       "      <td>11.789671</td>\n",
       "      <td>0.0</td>\n",
       "      <td>0.0</td>\n",
       "      <td>0.0</td>\n",
       "      <td>-0.010809</td>\n",
       "      <td>0.0</td>\n",
       "      <td>0.0</td>\n",
       "      <td>62</td>\n",
       "      <td>2017</td>\n",
       "      <td>2</td>\n",
       "    </tr>\n",
       "    <tr>\n",
       "      <th>2</th>\n",
       "      <td>62</td>\n",
       "      <td>1</td>\n",
       "      <td>12</td>\n",
       "      <td>10</td>\n",
       "      <td>2017-03-01</td>\n",
       "      <td>13.148651</td>\n",
       "      <td>11.512138</td>\n",
       "      <td>0.0</td>\n",
       "      <td>0.0</td>\n",
       "      <td>0.0</td>\n",
       "      <td>0.000000</td>\n",
       "      <td>0.0</td>\n",
       "      <td>0.0</td>\n",
       "      <td>63</td>\n",
       "      <td>2017</td>\n",
       "      <td>3</td>\n",
       "    </tr>\n",
       "    <tr>\n",
       "      <th>3</th>\n",
       "      <td>63</td>\n",
       "      <td>1</td>\n",
       "      <td>12</td>\n",
       "      <td>10</td>\n",
       "      <td>2017-04-01</td>\n",
       "      <td>13.236274</td>\n",
       "      <td>11.552861</td>\n",
       "      <td>0.0</td>\n",
       "      <td>0.0</td>\n",
       "      <td>0.0</td>\n",
       "      <td>0.000000</td>\n",
       "      <td>0.0</td>\n",
       "      <td>0.0</td>\n",
       "      <td>64</td>\n",
       "      <td>2017</td>\n",
       "      <td>4</td>\n",
       "    </tr>\n",
       "    <tr>\n",
       "      <th>4</th>\n",
       "      <td>64</td>\n",
       "      <td>1</td>\n",
       "      <td>12</td>\n",
       "      <td>10</td>\n",
       "      <td>2017-05-01</td>\n",
       "      <td>14.359559</td>\n",
       "      <td>12.558873</td>\n",
       "      <td>0.0</td>\n",
       "      <td>0.0</td>\n",
       "      <td>0.0</td>\n",
       "      <td>-0.071319</td>\n",
       "      <td>0.0</td>\n",
       "      <td>0.0</td>\n",
       "      <td>65</td>\n",
       "      <td>2017</td>\n",
       "      <td>5</td>\n",
       "    </tr>\n",
       "  </tbody>\n",
       "</table>\n",
       "</div>"
      ],
      "text/plain": [
       "   Unnamed: 0  Cluster  Brand_Group  Country        date     sales1  \\\n",
       "0          60        1           12       10  2017-01-01  12.712153   \n",
       "1          61        1           12       10  2017-02-01  13.395923   \n",
       "2          62        1           12       10  2017-03-01  13.148651   \n",
       "3          63        1           12       10  2017-04-01  13.236274   \n",
       "4          64        1           12       10  2017-05-01  14.359559   \n",
       "\n",
       "      sales2  inv1  inv2  inv3      inv4  inv5  inv6  id  year  month  \n",
       "0  11.105362   0.0   0.0   0.0  0.001951   0.0   0.0  61  2017      1  \n",
       "1  11.789671   0.0   0.0   0.0 -0.010809   0.0   0.0  62  2017      2  \n",
       "2  11.512138   0.0   0.0   0.0  0.000000   0.0   0.0  63  2017      3  \n",
       "3  11.552861   0.0   0.0   0.0  0.000000   0.0   0.0  64  2017      4  \n",
       "4  12.558873   0.0   0.0   0.0 -0.071319   0.0   0.0  65  2017      5  "
      ]
     },
     "execution_count": 108,
     "metadata": {},
     "output_type": "execute_result"
    }
   ],
   "source": [
    "val.head()"
   ]
  },
  {
   "cell_type": "code",
   "execution_count": 109,
   "metadata": {},
   "outputs": [],
   "source": [
    "train.drop(['date', 'Unnamed: 0', 'sales1'] , axis=1, inplace=True)\n",
    "val.drop(['date', 'Unnamed: 0', 'sales1'], axis=1, inplace=True)"
   ]
  },
  {
   "cell_type": "code",
   "execution_count": 110,
   "metadata": {},
   "outputs": [],
   "source": [
    "train.rename({'sales2': 'y'}, axis = 1, inplace=True)\n",
    "val.rename({'sales2': 'y'}, axis = 1, inplace=True)"
   ]
  },
  {
   "cell_type": "code",
   "execution_count": 111,
   "metadata": {},
   "outputs": [],
   "source": [
    "y_train = train.y\n",
    "X_train = train.drop('y', axis=1)\n",
    "y_val = val.y\n",
    "X_val = val.drop('y', axis=1)"
   ]
  },
  {
   "cell_type": "code",
   "execution_count": 112,
   "metadata": {},
   "outputs": [],
   "source": [
    "scaler = StandardScaler()\n",
    "model = LassoCV()"
   ]
  },
  {
   "cell_type": "code",
   "execution_count": 113,
   "metadata": {},
   "outputs": [],
   "source": [
    "X_train = scaler.fit_transform(X_train)\n",
    "X_val = scaler.transform(X_val)"
   ]
  },
  {
   "cell_type": "code",
   "execution_count": 114,
   "metadata": {},
   "outputs": [],
   "source": [
    "result = model.fit(X_train, y_train)"
   ]
  },
  {
   "cell_type": "code",
   "execution_count": 115,
   "metadata": {},
   "outputs": [],
   "source": [
    "y_pred = model.predict(X_val)"
   ]
  },
  {
   "cell_type": "code",
   "execution_count": 116,
   "metadata": {},
   "outputs": [
    {
     "name": "stdout",
     "output_type": "stream",
     "text": [
      "Test set mean absolute proportion error: 10.59\n"
     ]
    }
   ],
   "source": [
    "print('Test set mean absolute proportion error: {:.2f}'.format(prediction_absolute_prop_error(y_pred, y_val)))"
   ]
  },
  {
   "cell_type": "code",
   "execution_count": 77,
   "metadata": {},
   "outputs": [
    {
     "data": {
      "text/plain": [
       "array([  48.71382517,   49.20337481,   49.02633922, ..., 3722.44918281,\n",
       "       3934.71782674, 3799.86095937])"
      ]
     },
     "execution_count": 77,
     "metadata": {},
     "output_type": "execute_result"
    }
   ],
   "source": [
    "y_pred"
   ]
  },
  {
   "cell_type": "code",
   "execution_count": 91,
   "metadata": {},
   "outputs": [],
   "source": [
    "val_pred = val.copy()\n",
    "val_pred.drop('Unnamed: 0', axis=1, inplace=True)\n",
    "val_pred['y_hat'] = y_pred"
   ]
  },
  {
   "cell_type": "code",
   "execution_count": 92,
   "metadata": {},
   "outputs": [
    {
     "data": {
      "text/html": [
       "<div>\n",
       "<style scoped>\n",
       "    .dataframe tbody tr th:only-of-type {\n",
       "        vertical-align: middle;\n",
       "    }\n",
       "\n",
       "    .dataframe tbody tr th {\n",
       "        vertical-align: top;\n",
       "    }\n",
       "\n",
       "    .dataframe thead th {\n",
       "        text-align: right;\n",
       "    }\n",
       "</style>\n",
       "<table border=\"1\" class=\"dataframe\">\n",
       "  <thead>\n",
       "    <tr style=\"text-align: right;\">\n",
       "      <th></th>\n",
       "      <th>Cluster</th>\n",
       "      <th>Brand_Group</th>\n",
       "      <th>Country</th>\n",
       "      <th>date</th>\n",
       "      <th>sales1</th>\n",
       "      <th>sales2</th>\n",
       "      <th>inv1</th>\n",
       "      <th>inv2</th>\n",
       "      <th>inv3</th>\n",
       "      <th>inv4</th>\n",
       "      <th>inv5</th>\n",
       "      <th>inv6</th>\n",
       "      <th>id</th>\n",
       "      <th>year</th>\n",
       "      <th>month</th>\n",
       "      <th>y_hat</th>\n",
       "    </tr>\n",
       "  </thead>\n",
       "  <tbody>\n",
       "    <tr>\n",
       "      <th>0</th>\n",
       "      <td>1</td>\n",
       "      <td>12</td>\n",
       "      <td>10</td>\n",
       "      <td>2017-01-01</td>\n",
       "      <td>12.712153</td>\n",
       "      <td>11.105362</td>\n",
       "      <td>0.0</td>\n",
       "      <td>0.0</td>\n",
       "      <td>0.0</td>\n",
       "      <td>0.001951</td>\n",
       "      <td>0.0</td>\n",
       "      <td>0.0</td>\n",
       "      <td>61</td>\n",
       "      <td>2017</td>\n",
       "      <td>1</td>\n",
       "      <td>48.713825</td>\n",
       "    </tr>\n",
       "    <tr>\n",
       "      <th>1</th>\n",
       "      <td>1</td>\n",
       "      <td>12</td>\n",
       "      <td>10</td>\n",
       "      <td>2017-02-01</td>\n",
       "      <td>13.395923</td>\n",
       "      <td>11.789671</td>\n",
       "      <td>0.0</td>\n",
       "      <td>0.0</td>\n",
       "      <td>0.0</td>\n",
       "      <td>-0.010809</td>\n",
       "      <td>0.0</td>\n",
       "      <td>0.0</td>\n",
       "      <td>62</td>\n",
       "      <td>2017</td>\n",
       "      <td>2</td>\n",
       "      <td>49.203375</td>\n",
       "    </tr>\n",
       "    <tr>\n",
       "      <th>2</th>\n",
       "      <td>1</td>\n",
       "      <td>12</td>\n",
       "      <td>10</td>\n",
       "      <td>2017-03-01</td>\n",
       "      <td>13.148651</td>\n",
       "      <td>11.512138</td>\n",
       "      <td>0.0</td>\n",
       "      <td>0.0</td>\n",
       "      <td>0.0</td>\n",
       "      <td>0.000000</td>\n",
       "      <td>0.0</td>\n",
       "      <td>0.0</td>\n",
       "      <td>63</td>\n",
       "      <td>2017</td>\n",
       "      <td>3</td>\n",
       "      <td>49.026339</td>\n",
       "    </tr>\n",
       "    <tr>\n",
       "      <th>3</th>\n",
       "      <td>1</td>\n",
       "      <td>12</td>\n",
       "      <td>10</td>\n",
       "      <td>2017-04-01</td>\n",
       "      <td>13.236274</td>\n",
       "      <td>11.552861</td>\n",
       "      <td>0.0</td>\n",
       "      <td>0.0</td>\n",
       "      <td>0.0</td>\n",
       "      <td>0.000000</td>\n",
       "      <td>0.0</td>\n",
       "      <td>0.0</td>\n",
       "      <td>64</td>\n",
       "      <td>2017</td>\n",
       "      <td>4</td>\n",
       "      <td>49.089073</td>\n",
       "    </tr>\n",
       "    <tr>\n",
       "      <th>4</th>\n",
       "      <td>1</td>\n",
       "      <td>12</td>\n",
       "      <td>10</td>\n",
       "      <td>2017-05-01</td>\n",
       "      <td>14.359559</td>\n",
       "      <td>12.558873</td>\n",
       "      <td>0.0</td>\n",
       "      <td>0.0</td>\n",
       "      <td>0.0</td>\n",
       "      <td>-0.071319</td>\n",
       "      <td>0.0</td>\n",
       "      <td>0.0</td>\n",
       "      <td>65</td>\n",
       "      <td>2017</td>\n",
       "      <td>5</td>\n",
       "      <td>49.893297</td>\n",
       "    </tr>\n",
       "  </tbody>\n",
       "</table>\n",
       "</div>"
      ],
      "text/plain": [
       "   Cluster  Brand_Group  Country        date     sales1     sales2  inv1  \\\n",
       "0        1           12       10  2017-01-01  12.712153  11.105362   0.0   \n",
       "1        1           12       10  2017-02-01  13.395923  11.789671   0.0   \n",
       "2        1           12       10  2017-03-01  13.148651  11.512138   0.0   \n",
       "3        1           12       10  2017-04-01  13.236274  11.552861   0.0   \n",
       "4        1           12       10  2017-05-01  14.359559  12.558873   0.0   \n",
       "\n",
       "   inv2  inv3      inv4  inv5  inv6  id  year  month      y_hat  \n",
       "0   0.0   0.0  0.001951   0.0   0.0  61  2017      1  48.713825  \n",
       "1   0.0   0.0 -0.010809   0.0   0.0  62  2017      2  49.203375  \n",
       "2   0.0   0.0  0.000000   0.0   0.0  63  2017      3  49.026339  \n",
       "3   0.0   0.0  0.000000   0.0   0.0  64  2017      4  49.089073  \n",
       "4   0.0   0.0 -0.071319   0.0   0.0  65  2017      5  49.893297  "
      ]
     },
     "execution_count": 92,
     "metadata": {},
     "output_type": "execute_result"
    }
   ],
   "source": [
    "val_pred.head()"
   ]
  },
  {
   "cell_type": "code",
   "execution_count": 93,
   "metadata": {},
   "outputs": [],
   "source": [
    "val_pred.to_csv('pred_lasso_pablo_1.csv')"
   ]
  }
 ],
 "metadata": {
  "kernelspec": {
   "display_name": "Python [default]",
   "language": "python",
   "name": "python3"
  },
  "language_info": {
   "codemirror_mode": {
    "name": "ipython",
    "version": 3
   },
   "file_extension": ".py",
   "mimetype": "text/x-python",
   "name": "python",
   "nbconvert_exporter": "python",
   "pygments_lexer": "ipython3",
   "version": "3.6.3"
  }
 },
 "nbformat": 4,
 "nbformat_minor": 2
}
